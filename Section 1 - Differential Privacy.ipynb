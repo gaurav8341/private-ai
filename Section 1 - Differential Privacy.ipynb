{
  "nbformat": 4,
  "nbformat_minor": 0,
  "metadata": {
    "colab": {
      "name": "Section 1 - Differential Privacy.ipynb",
      "version": "0.3.2",
      "provenance": [],
      "include_colab_link": true
    },
    "language_info": {
      "codemirror_mode": {
        "name": "ipython",
        "version": 3
      },
      "file_extension": ".py",
      "mimetype": "text/x-python",
      "name": "python",
      "nbconvert_exporter": "python",
      "pygments_lexer": "ipython3",
      "version": "3.6.1"
    },
    "kernelspec": {
      "display_name": "Python 3",
      "language": "python",
      "name": "python3"
    }
  },
  "cells": [
    {
      "cell_type": "markdown",
      "metadata": {
        "id": "view-in-github",
        "colab_type": "text"
      },
      "source": [
        "<a href=\"https://colab.research.google.com/github/gaurav8341/private-ai/blob/master/Section%201%20-%20Differential%20Privacy.ipynb\" target=\"_parent\"><img src=\"https://colab.research.google.com/assets/colab-badge.svg\" alt=\"Open In Colab\"/></a>"
      ]
    },
    {
      "cell_type": "markdown",
      "metadata": {
        "id": "IhS7umUB6mWd",
        "colab_type": "text"
      },
      "source": [
        "## Lesson: Toy Differential Privacy - Simple Database Queries"
      ]
    },
    {
      "cell_type": "markdown",
      "metadata": {
        "id": "e0THJxYa6mWl",
        "colab_type": "text"
      },
      "source": [
        "In this section we're going to play around with Differential Privacy in the context of a database query. The database is going to be a VERY simple database with only one boolean column. Each row corresponds to a person. Each value corresponds to whether or not that person has a certain private attribute (such as whether they have a certain disease, or whether they are above/below a certain age). We are then going to learn how to know whether a database query over such a small database is differentially private or not - and more importantly - what techniques are at our disposal to ensure various levels of privacy\n",
        "\n",
        "\n",
        "### First We Create a Simple Database\n",
        "\n",
        "Step one is to create our database - we're going to do this by initializing a random list of 1s and 0s (which are the entries in our database). Note - the number of entries directly corresponds to the number of people in our database."
      ]
    },
    {
      "cell_type": "code",
      "metadata": {
        "id": "wvasyZkR6mWp",
        "colab_type": "code",
        "outputId": "5d3edcf0-e293-478c-b898-2ab3cbbf11f9",
        "colab": {
          "base_uri": "https://localhost:8080/",
          "height": 35
        }
      },
      "source": [
        "import torch\n",
        "\n",
        "# the number of entries in our database\n",
        "num_entries = 5000\n",
        "\n",
        "db = torch.rand(num_entries) > 0.5\n",
        "db"
      ],
      "execution_count": 1,
      "outputs": [
        {
          "output_type": "execute_result",
          "data": {
            "text/plain": [
              "tensor([1, 0, 1,  ..., 0, 0, 0], dtype=torch.uint8)"
            ]
          },
          "metadata": {
            "tags": []
          },
          "execution_count": 1
        }
      ]
    },
    {
      "cell_type": "code",
      "metadata": {
        "id": "Q8ADLN1d8u15",
        "colab_type": "code",
        "outputId": "3b3969ea-0829-4fa0-fe3b-0ae27b1199b4",
        "colab": {
          "base_uri": "https://localhost:8080/",
          "height": 1000
        }
      },
      "source": [
        "!pip install syft"
      ],
      "execution_count": 2,
      "outputs": [
        {
          "output_type": "stream",
          "text": [
            "Collecting syft\n",
            "\u001b[?25l  Downloading https://files.pythonhosted.org/packages/38/2e/16bdefc78eb089e1efa9704c33b8f76f035a30dc935bedd7cbb22f6dabaa/syft-0.1.21a1-py3-none-any.whl (219kB)\n",
            "\r\u001b[K     |█▌                              | 10kB 13.8MB/s eta 0:00:01\r\u001b[K     |███                             | 20kB 1.8MB/s eta 0:00:01\r\u001b[K     |████▌                           | 30kB 2.6MB/s eta 0:00:01\r\u001b[K     |██████                          | 40kB 1.7MB/s eta 0:00:01\r\u001b[K     |███████▌                        | 51kB 2.1MB/s eta 0:00:01\r\u001b[K     |█████████                       | 61kB 2.5MB/s eta 0:00:01\r\u001b[K     |██████████▍                     | 71kB 2.9MB/s eta 0:00:01\r\u001b[K     |████████████                    | 81kB 3.3MB/s eta 0:00:01\r\u001b[K     |█████████████▍                  | 92kB 3.7MB/s eta 0:00:01\r\u001b[K     |███████████████                 | 102kB 2.8MB/s eta 0:00:01\r\u001b[K     |████████████████▍               | 112kB 2.8MB/s eta 0:00:01\r\u001b[K     |█████████████████▉              | 122kB 2.8MB/s eta 0:00:01\r\u001b[K     |███████████████████▍            | 133kB 2.8MB/s eta 0:00:01\r\u001b[K     |████████████████████▉           | 143kB 2.8MB/s eta 0:00:01\r\u001b[K     |██████████████████████▍         | 153kB 2.8MB/s eta 0:00:01\r\u001b[K     |███████████████████████▉        | 163kB 2.8MB/s eta 0:00:01\r\u001b[K     |█████████████████████████▎      | 174kB 2.8MB/s eta 0:00:01\r\u001b[K     |██████████████████████████▉     | 184kB 2.8MB/s eta 0:00:01\r\u001b[K     |████████████████████████████▎   | 194kB 2.8MB/s eta 0:00:01\r\u001b[K     |█████████████████████████████▉  | 204kB 2.8MB/s eta 0:00:01\r\u001b[K     |███████████████████████████████▎| 215kB 2.8MB/s eta 0:00:01\r\u001b[K     |████████████████████████████████| 225kB 2.8MB/s \n",
            "\u001b[?25hCollecting zstd>=1.4.0.0 (from syft)\n",
            "\u001b[?25l  Downloading https://files.pythonhosted.org/packages/8e/27/1ea8086d37424e83ab692015cc8dd7d5e37cf791e339633a40dc828dfb74/zstd-1.4.0.0.tar.gz (450kB)\n",
            "\r\u001b[K     |▊                               | 10kB 16.1MB/s eta 0:00:01\r\u001b[K     |█▌                              | 20kB 22.4MB/s eta 0:00:01\r\u001b[K     |██▏                             | 30kB 28.6MB/s eta 0:00:01\r\u001b[K     |███                             | 40kB 33.0MB/s eta 0:00:01\r\u001b[K     |███▋                            | 51kB 35.5MB/s eta 0:00:01\r\u001b[K     |████▍                           | 61kB 38.6MB/s eta 0:00:01\r\u001b[K     |█████                           | 71kB 40.3MB/s eta 0:00:01\r\u001b[K     |█████▉                          | 81kB 40.8MB/s eta 0:00:01\r\u001b[K     |██████▌                         | 92kB 42.8MB/s eta 0:00:01\r\u001b[K     |███████▎                        | 102kB 44.5MB/s eta 0:00:01\r\u001b[K     |████████                        | 112kB 44.5MB/s eta 0:00:01\r\u001b[K     |████████▊                       | 122kB 44.5MB/s eta 0:00:01\r\u001b[K     |█████████▌                      | 133kB 44.5MB/s eta 0:00:01\r\u001b[K     |██████████▏                     | 143kB 44.5MB/s eta 0:00:01\r\u001b[K     |███████████                     | 153kB 44.5MB/s eta 0:00:01\r\u001b[K     |███████████▋                    | 163kB 44.5MB/s eta 0:00:01\r\u001b[K     |████████████▍                   | 174kB 44.5MB/s eta 0:00:01\r\u001b[K     |█████████████                   | 184kB 44.5MB/s eta 0:00:01\r\u001b[K     |█████████████▉                  | 194kB 44.5MB/s eta 0:00:01\r\u001b[K     |██████████████▌                 | 204kB 44.5MB/s eta 0:00:01\r\u001b[K     |███████████████▎                | 215kB 44.5MB/s eta 0:00:01\r\u001b[K     |████████████████                | 225kB 44.5MB/s eta 0:00:01\r\u001b[K     |████████████████▊               | 235kB 44.5MB/s eta 0:00:01\r\u001b[K     |█████████████████▌              | 245kB 44.5MB/s eta 0:00:01\r\u001b[K     |██████████████████▏             | 256kB 44.5MB/s eta 0:00:01\r\u001b[K     |███████████████████             | 266kB 44.5MB/s eta 0:00:01\r\u001b[K     |███████████████████▋            | 276kB 44.5MB/s eta 0:00:01\r\u001b[K     |████████████████████▍           | 286kB 44.5MB/s eta 0:00:01\r\u001b[K     |█████████████████████           | 296kB 44.5MB/s eta 0:00:01\r\u001b[K     |█████████████████████▉          | 307kB 44.5MB/s eta 0:00:01\r\u001b[K     |██████████████████████▌         | 317kB 44.5MB/s eta 0:00:01\r\u001b[K     |███████████████████████▎        | 327kB 44.5MB/s eta 0:00:01\r\u001b[K     |████████████████████████        | 337kB 44.5MB/s eta 0:00:01\r\u001b[K     |████████████████████████▊       | 348kB 44.5MB/s eta 0:00:01\r\u001b[K     |█████████████████████████▌      | 358kB 44.5MB/s eta 0:00:01\r\u001b[K     |██████████████████████████▏     | 368kB 44.5MB/s eta 0:00:01\r\u001b[K     |███████████████████████████     | 378kB 44.5MB/s eta 0:00:01\r\u001b[K     |███████████████████████████▋    | 389kB 44.5MB/s eta 0:00:01\r\u001b[K     |████████████████████████████▍   | 399kB 44.5MB/s eta 0:00:01\r\u001b[K     |█████████████████████████████   | 409kB 44.5MB/s eta 0:00:01\r\u001b[K     |█████████████████████████████▉  | 419kB 44.5MB/s eta 0:00:01\r\u001b[K     |██████████████████████████████▌ | 430kB 44.5MB/s eta 0:00:01\r\u001b[K     |███████████████████████████████▎| 440kB 44.5MB/s eta 0:00:01\r\u001b[K     |████████████████████████████████| 450kB 44.5MB/s \n",
            "\u001b[?25hCollecting flask-socketio>=3.3.2 (from syft)\n",
            "  Downloading https://files.pythonhosted.org/packages/4b/68/fe4806d3a0a5909d274367eb9b3b87262906c1515024f46c2443a36a0c82/Flask_SocketIO-4.1.0-py2.py3-none-any.whl\n",
            "Requirement already satisfied: scikit-learn>=0.21.0 in /usr/local/lib/python3.6/dist-packages (from syft) (0.21.2)\n",
            "Collecting websockets>=7.0 (from syft)\n",
            "\u001b[?25l  Downloading https://files.pythonhosted.org/packages/61/5e/2fe6afbb796c6ac5c006460b5503cd674d33706660337f2dbff10d4aa12d/websockets-8.0-cp36-cp36m-manylinux1_x86_64.whl (72kB)\n",
            "\u001b[K     |████████████████████████████████| 81kB 25.4MB/s \n",
            "\u001b[?25hRequirement already satisfied: tblib>=1.4.0 in /usr/local/lib/python3.6/dist-packages (from syft) (1.4.0)\n",
            "Collecting lz4>=2.1.6 (from syft)\n",
            "\u001b[?25l  Downloading https://files.pythonhosted.org/packages/0a/c6/96bbb3525a63ebc53ea700cc7d37ab9045542d33b4d262d0f0408ad9bbf2/lz4-2.1.10-cp36-cp36m-manylinux1_x86_64.whl (385kB)\n",
            "\u001b[K     |████████████████████████████████| 389kB 43.5MB/s \n",
            "\u001b[?25hRequirement already satisfied: Flask>=1.0.2 in /usr/local/lib/python3.6/dist-packages (from syft) (1.1.1)\n",
            "Collecting tf-encrypted>=0.5.4 (from syft)\n",
            "\u001b[?25l  Downloading https://files.pythonhosted.org/packages/55/ff/7dbd5fc77fcec0df1798268a6b72a2ab0150b854761bc39c77d566798f0b/tf_encrypted-0.5.7-py3-none-manylinux1_x86_64.whl (2.1MB)\n",
            "\u001b[K     |████████████████████████████████| 2.1MB 42.6MB/s \n",
            "\u001b[?25hCollecting websocket-client>=0.56.0 (from syft)\n",
            "\u001b[?25l  Downloading https://files.pythonhosted.org/packages/29/19/44753eab1fdb50770ac69605527e8859468f3c0fd7dc5a76dd9c4dbd7906/websocket_client-0.56.0-py2.py3-none-any.whl (200kB)\n",
            "\u001b[K     |████████████████████████████████| 204kB 46.0MB/s \n",
            "\u001b[?25hRequirement already satisfied: torchvision>=0.3.0 in /usr/local/lib/python3.6/dist-packages (from syft) (0.3.0)\n",
            "Collecting msgpack>=0.6.1 (from syft)\n",
            "\u001b[?25l  Downloading https://files.pythonhosted.org/packages/92/7e/ae9e91c1bb8d846efafd1f353476e3fd7309778b582d2fb4cea4cc15b9a2/msgpack-0.6.1-cp36-cp36m-manylinux1_x86_64.whl (248kB)\n",
            "\u001b[K     |████████████████████████████████| 256kB 43.6MB/s \n",
            "\u001b[?25hRequirement already satisfied: torch>=1.1 in /usr/local/lib/python3.6/dist-packages (from syft) (1.1.0)\n",
            "Requirement already satisfied: numpy>=1.14.0 in /usr/local/lib/python3.6/dist-packages (from syft) (1.16.4)\n",
            "Collecting python-socketio>=2.1.0 (from flask-socketio>=3.3.2->syft)\n",
            "\u001b[?25l  Downloading https://files.pythonhosted.org/packages/26/1b/57e860a86f2a01be86ae1dacfa0cd8c4dfbfcd4593322268b61b5a07b564/python_socketio-4.2.0-py2.py3-none-any.whl (46kB)\n",
            "\u001b[K     |████████████████████████████████| 51kB 18.7MB/s \n",
            "\u001b[?25hRequirement already satisfied: joblib>=0.11 in /usr/local/lib/python3.6/dist-packages (from scikit-learn>=0.21.0->syft) (0.13.2)\n",
            "Requirement already satisfied: scipy>=0.17.0 in /usr/local/lib/python3.6/dist-packages (from scikit-learn>=0.21.0->syft) (1.3.0)\n",
            "Requirement already satisfied: Jinja2>=2.10.1 in /usr/local/lib/python3.6/dist-packages (from Flask>=1.0.2->syft) (2.10.1)\n",
            "Requirement already satisfied: click>=5.1 in /usr/local/lib/python3.6/dist-packages (from Flask>=1.0.2->syft) (7.0)\n",
            "Requirement already satisfied: Werkzeug>=0.15 in /usr/local/lib/python3.6/dist-packages (from Flask>=1.0.2->syft) (0.15.5)\n",
            "Requirement already satisfied: itsdangerous>=0.24 in /usr/local/lib/python3.6/dist-packages (from Flask>=1.0.2->syft) (1.1.0)\n",
            "Requirement already satisfied: tensorflow<2,>=1.12.0 in /usr/local/lib/python3.6/dist-packages (from tf-encrypted>=0.5.4->syft) (1.14.0)\n",
            "Collecting pyyaml>=5.1 (from tf-encrypted>=0.5.4->syft)\n",
            "\u001b[?25l  Downloading https://files.pythonhosted.org/packages/a3/65/837fefac7475963d1eccf4aa684c23b95aa6c1d033a2c5965ccb11e22623/PyYAML-5.1.1.tar.gz (274kB)\n",
            "\u001b[K     |████████████████████████████████| 276kB 41.4MB/s \n",
            "\u001b[?25hRequirement already satisfied: six in /usr/local/lib/python3.6/dist-packages (from websocket-client>=0.56.0->syft) (1.12.0)\n",
            "Requirement already satisfied: pillow>=4.1.1 in /usr/local/lib/python3.6/dist-packages (from torchvision>=0.3.0->syft) (4.3.0)\n",
            "Collecting python-engineio>=3.8.0 (from python-socketio>=2.1.0->flask-socketio>=3.3.2->syft)\n",
            "\u001b[?25l  Downloading https://files.pythonhosted.org/packages/bd/b8/0fc389ca5c445051b37b17802f80bbf1b51c1e3b48b772ee608efbb90583/python_engineio-3.8.2.post1-py2.py3-none-any.whl (119kB)\n",
            "\u001b[K     |████████████████████████████████| 122kB 43.1MB/s \n",
            "\u001b[?25hRequirement already satisfied: MarkupSafe>=0.23 in /usr/local/lib/python3.6/dist-packages (from Jinja2>=2.10.1->Flask>=1.0.2->syft) (1.1.1)\n",
            "Requirement already satisfied: google-pasta>=0.1.6 in /usr/local/lib/python3.6/dist-packages (from tensorflow<2,>=1.12.0->tf-encrypted>=0.5.4->syft) (0.1.7)\n",
            "Requirement already satisfied: keras-applications>=1.0.6 in /usr/local/lib/python3.6/dist-packages (from tensorflow<2,>=1.12.0->tf-encrypted>=0.5.4->syft) (1.0.8)\n",
            "Requirement already satisfied: astor>=0.6.0 in /usr/local/lib/python3.6/dist-packages (from tensorflow<2,>=1.12.0->tf-encrypted>=0.5.4->syft) (0.8.0)\n",
            "Requirement already satisfied: absl-py>=0.7.0 in /usr/local/lib/python3.6/dist-packages (from tensorflow<2,>=1.12.0->tf-encrypted>=0.5.4->syft) (0.7.1)\n",
            "Requirement already satisfied: wheel>=0.26 in /usr/local/lib/python3.6/dist-packages (from tensorflow<2,>=1.12.0->tf-encrypted>=0.5.4->syft) (0.33.4)\n",
            "Requirement already satisfied: tensorboard<1.15.0,>=1.14.0 in /usr/local/lib/python3.6/dist-packages (from tensorflow<2,>=1.12.0->tf-encrypted>=0.5.4->syft) (1.14.0)\n",
            "Requirement already satisfied: keras-preprocessing>=1.0.5 in /usr/local/lib/python3.6/dist-packages (from tensorflow<2,>=1.12.0->tf-encrypted>=0.5.4->syft) (1.1.0)\n",
            "Requirement already satisfied: grpcio>=1.8.6 in /usr/local/lib/python3.6/dist-packages (from tensorflow<2,>=1.12.0->tf-encrypted>=0.5.4->syft) (1.15.0)\n",
            "Requirement already satisfied: termcolor>=1.1.0 in /usr/local/lib/python3.6/dist-packages (from tensorflow<2,>=1.12.0->tf-encrypted>=0.5.4->syft) (1.1.0)\n",
            "Requirement already satisfied: gast>=0.2.0 in /usr/local/lib/python3.6/dist-packages (from tensorflow<2,>=1.12.0->tf-encrypted>=0.5.4->syft) (0.2.2)\n",
            "Requirement already satisfied: tensorflow-estimator<1.15.0rc0,>=1.14.0rc0 in /usr/local/lib/python3.6/dist-packages (from tensorflow<2,>=1.12.0->tf-encrypted>=0.5.4->syft) (1.14.0)\n",
            "Requirement already satisfied: protobuf>=3.6.1 in /usr/local/lib/python3.6/dist-packages (from tensorflow<2,>=1.12.0->tf-encrypted>=0.5.4->syft) (3.7.1)\n",
            "Requirement already satisfied: wrapt>=1.11.1 in /usr/local/lib/python3.6/dist-packages (from tensorflow<2,>=1.12.0->tf-encrypted>=0.5.4->syft) (1.11.2)\n",
            "Requirement already satisfied: olefile in /usr/local/lib/python3.6/dist-packages (from pillow>=4.1.1->torchvision>=0.3.0->syft) (0.46)\n",
            "Requirement already satisfied: h5py in /usr/local/lib/python3.6/dist-packages (from keras-applications>=1.0.6->tensorflow<2,>=1.12.0->tf-encrypted>=0.5.4->syft) (2.8.0)\n",
            "Requirement already satisfied: setuptools>=41.0.0 in /usr/local/lib/python3.6/dist-packages (from tensorboard<1.15.0,>=1.14.0->tensorflow<2,>=1.12.0->tf-encrypted>=0.5.4->syft) (41.0.1)\n",
            "Requirement already satisfied: markdown>=2.6.8 in /usr/local/lib/python3.6/dist-packages (from tensorboard<1.15.0,>=1.14.0->tensorflow<2,>=1.12.0->tf-encrypted>=0.5.4->syft) (3.1.1)\n",
            "Building wheels for collected packages: zstd, pyyaml\n",
            "  Building wheel for zstd (setup.py) ... \u001b[?25l\u001b[?25hdone\n",
            "  Stored in directory: /root/.cache/pip/wheels/ad/9a/f4/3105b5209674ac77fcca7fede95184c62a95df0196888e0e76\n",
            "  Building wheel for pyyaml (setup.py) ... \u001b[?25l\u001b[?25hdone\n",
            "  Stored in directory: /root/.cache/pip/wheels/16/27/a1/775c62ddea7bfa62324fd1f65847ed31c55dadb6051481ba3f\n",
            "Successfully built zstd pyyaml\n",
            "Installing collected packages: zstd, python-engineio, python-socketio, flask-socketio, websockets, lz4, pyyaml, tf-encrypted, websocket-client, msgpack, syft\n",
            "  Found existing installation: PyYAML 3.13\n",
            "    Uninstalling PyYAML-3.13:\n",
            "      Successfully uninstalled PyYAML-3.13\n",
            "  Found existing installation: msgpack 0.5.6\n",
            "    Uninstalling msgpack-0.5.6:\n",
            "      Successfully uninstalled msgpack-0.5.6\n",
            "Successfully installed flask-socketio-4.1.0 lz4-2.1.10 msgpack-0.6.1 python-engineio-3.8.2.post1 python-socketio-4.2.0 pyyaml-5.1.1 syft-0.1.21a1 tf-encrypted-0.5.7 websocket-client-0.56.0 websockets-8.0 zstd-1.4.0.0\n"
          ],
          "name": "stdout"
        }
      ]
    },
    {
      "cell_type": "markdown",
      "metadata": {
        "id": "f4ZHfGZa6mW9",
        "colab_type": "text"
      },
      "source": [
        "## Project: Generate Parallel Databases\n",
        "\n",
        "Key to the definition of differenital privacy is the ability to ask the question \"When querying a database, if I removed someone from the database, would the output of the query be any different?\". Thus, in order to check this, we must construct what we term \"parallel databases\" which are simply databases with one entry removed. \n",
        "\n",
        "In this first project, I want you to create a list of every parallel database to the one currently contained in the \"db\" variable. Then, I want you to create a function which both:\n",
        "\n",
        "- creates the initial database (db)\n",
        "- creates all parallel databases"
      ]
    },
    {
      "cell_type": "code",
      "metadata": {
        "id": "EfxFNytI6mXC",
        "colab_type": "code",
        "colab": {}
      },
      "source": [
        "# try project here!\n",
        "\n",
        "def get_parallel_db(db, remove_idx):\n",
        "  '''\n",
        "      Removes the data of specified index from the database\n",
        "      \n",
        "      Args:\n",
        "        db : DataBase to process\n",
        "        remove_idx : index of data to be removed\n",
        "        \n",
        "      Returns:\n",
        "        the modified data\n",
        "  '''\n",
        "  return torch.cat((db[0:remove_idx], \n",
        "                    db[remove_idx + 1:]))\n",
        "  \n"
      ],
      "execution_count": 0,
      "outputs": []
    },
    {
      "cell_type": "code",
      "metadata": {
        "id": "Mw8VF8u_6mXM",
        "colab_type": "code",
        "colab": {}
      },
      "source": [
        "def get_parallel_dbs(db):\n",
        "  '''\n",
        "    Returns the list of parallel databses\n",
        "    \n",
        "    Args:\n",
        "      db : databse to be processed\n",
        "      \n",
        "    Returns:\n",
        "        pdb_list: list of parallel databses\n",
        "  '''\n",
        "  \n",
        "  pdb_list = list()\n",
        "  \n",
        "  for i in range(len(db)):\n",
        "    pdb = get_parallel_db(db , i)\n",
        "    pdb_list.append(pdb)\n",
        "  \n",
        "  return pdb_list"
      ],
      "execution_count": 0,
      "outputs": []
    },
    {
      "cell_type": "code",
      "metadata": {
        "id": "22qtZklu6mXT",
        "colab_type": "code",
        "colab": {}
      },
      "source": [
        "pdb = get_parallel_dbs(db)"
      ],
      "execution_count": 0,
      "outputs": []
    },
    {
      "cell_type": "code",
      "metadata": {
        "id": "tINdxgH36mXc",
        "colab_type": "code",
        "colab": {}
      },
      "source": [
        "def create_db_and_parallels(num_entries):\n",
        "  '''\n",
        "    Craetes the database and parallel databases\n",
        "    \n",
        "    Args:\n",
        "      num_entries : The number of data in a original database\n",
        "        (length of database)\n",
        "        \n",
        "    Returns:\n",
        "      db: original database\n",
        "      pdbs: list of parallel databases\n",
        "  '''\n",
        "  db = torch.rand(num_entries) > 0.5\n",
        "  \n",
        "  pdbs = get_parallel_dbs(db)\n",
        "  \n",
        "  return db, pdbs\n"
      ],
      "execution_count": 0,
      "outputs": []
    },
    {
      "cell_type": "code",
      "metadata": {
        "id": "0Mdb0OBe6mXi",
        "colab_type": "code",
        "outputId": "a1d2e5db-7128-43d3-d85e-14f4429bb144",
        "colab": {
          "base_uri": "https://localhost:8080/",
          "height": 54
        }
      },
      "source": [
        "db , pdbs = create_db_and_parallels(20)\n",
        "\n",
        "pdbs[0]\n"
      ],
      "execution_count": 7,
      "outputs": [
        {
          "output_type": "execute_result",
          "data": {
            "text/plain": [
              "tensor([1, 0, 1, 0, 1, 1, 1, 1, 0, 0, 1, 1, 1, 1, 0, 0, 1, 0, 0],\n",
              "       dtype=torch.uint8)"
            ]
          },
          "metadata": {
            "tags": []
          },
          "execution_count": 7
        }
      ]
    },
    {
      "cell_type": "code",
      "metadata": {
        "id": "VTnfovtaJjig",
        "colab_type": "code",
        "outputId": "e490b125-7c01-4a3a-d86f-e74bf72bfd5d",
        "colab": {
          "base_uri": "https://localhost:8080/",
          "height": 54
        }
      },
      "source": [
        "db"
      ],
      "execution_count": 8,
      "outputs": [
        {
          "output_type": "execute_result",
          "data": {
            "text/plain": [
              "tensor([0, 1, 0, 1, 0, 1, 1, 1, 1, 0, 0, 1, 1, 1, 1, 0, 0, 1, 0, 0],\n",
              "       dtype=torch.uint8)"
            ]
          },
          "metadata": {
            "tags": []
          },
          "execution_count": 8
        }
      ]
    },
    {
      "cell_type": "markdown",
      "metadata": {
        "id": "i30IiTWY6mXr",
        "colab_type": "text"
      },
      "source": [
        "# Lesson: Towards Evaluating The Differential Privacy of a Function\n",
        "\n",
        "Intuitively, we want to be able to query our database and evaluate whether or not the result of the query is leaking \"private\" information. As mentioned previously, this is about evaluating whether the output of a query changes when we remove someone from the database. Specifically, we want to evaluate the *maximum* amount the query changes when someone is removed (maximum over all possible people who could be removed). So, in order to evaluate how much privacy is leaked, we're going to iterate over each person in the database and measure the difference in the output of the query relative to when we query the entire database. \n",
        "\n",
        "Just for the sake of argument, let's make our first \"database query\" a simple sum. Aka, we're going to count the number of 1s in the database."
      ]
    },
    {
      "cell_type": "code",
      "metadata": {
        "id": "1N3y6fC86mXx",
        "colab_type": "code",
        "colab": {}
      },
      "source": [
        "db, pdbs = create_db_and_parallels(5000)"
      ],
      "execution_count": 0,
      "outputs": []
    },
    {
      "cell_type": "code",
      "metadata": {
        "id": "LRztlNSh6mX4",
        "colab_type": "code",
        "colab": {}
      },
      "source": [
        "def query(db):\n",
        "    return db.sum()"
      ],
      "execution_count": 0,
      "outputs": []
    },
    {
      "cell_type": "code",
      "metadata": {
        "id": "c-iwKYx66mYA",
        "colab_type": "code",
        "colab": {}
      },
      "source": [
        "full_db_result = query(db)"
      ],
      "execution_count": 0,
      "outputs": []
    },
    {
      "cell_type": "code",
      "metadata": {
        "id": "jOiCuRHV6mYJ",
        "colab_type": "code",
        "colab": {}
      },
      "source": [
        "sensitivity = 0\n",
        "for pdb in pdbs:\n",
        "    pdb_result = query(pdb)\n",
        "    \n",
        "    db_distance = torch.abs(pdb_result - full_db_result)\n",
        "    \n",
        "    if(db_distance > sensitivity):\n",
        "        sensitivity = db_distance"
      ],
      "execution_count": 0,
      "outputs": []
    },
    {
      "cell_type": "code",
      "metadata": {
        "id": "AwnqNZi96mYT",
        "colab_type": "code",
        "outputId": "8b149bb8-1ae4-48da-b82c-dacb19531c94",
        "colab": {
          "base_uri": "https://localhost:8080/",
          "height": 35
        }
      },
      "source": [
        "sensitivity"
      ],
      "execution_count": 13,
      "outputs": [
        {
          "output_type": "execute_result",
          "data": {
            "text/plain": [
              "tensor(1)"
            ]
          },
          "metadata": {
            "tags": []
          },
          "execution_count": 13
        }
      ]
    },
    {
      "cell_type": "markdown",
      "metadata": {
        "id": "-uHpxG9x6mYg",
        "colab_type": "text"
      },
      "source": [
        "# Project - Evaluating the Privacy of a Function\n",
        "\n",
        "In the last section, we measured the difference between each parallel db's query result and the query result for the entire database and then calculated the max value (which was 1). This value is called \"sensitivity\", and it corresponds to the function we chose for the query. Namely, the \"sum\" query will always have a sensitivity of exactly 1. However, we can also calculate sensitivity for other functions as well.\n",
        "\n",
        "Let's try to calculate sensitivity for the \"mean\" function."
      ]
    },
    {
      "cell_type": "code",
      "metadata": {
        "id": "e0LIrIX_6mYi",
        "colab_type": "code",
        "colab": {}
      },
      "source": [
        "# try this project here!\n",
        "\n",
        "def sensitivity(query , num_entries = 1000):\n",
        "  db , pdbs = create_db_and_parallels(num_entries)\n",
        "  \n",
        "  full_db_result = query(db)\n",
        "  max_distance = 0\n",
        "  \n",
        "  for pdb in pdbs:\n",
        "    pdb_result = query(pdb)\n",
        "    \n",
        "    db_distance = torch.abs(pdb_result - full_db_result)\n",
        "    \n",
        "    if(db_distance > max_distance):\n",
        "      max_distance = db_distance\n",
        "      \n",
        "  return max_distance"
      ],
      "execution_count": 0,
      "outputs": []
    },
    {
      "cell_type": "code",
      "metadata": {
        "id": "JYTrPZFr6mYo",
        "colab_type": "code",
        "colab": {}
      },
      "source": [
        "def query(db):\n",
        "  return db.float().mean()"
      ],
      "execution_count": 0,
      "outputs": []
    },
    {
      "cell_type": "code",
      "metadata": {
        "id": "4Cap0MIM6mYv",
        "colab_type": "code",
        "outputId": "4fd8787b-6b12-4591-b919-154a3aecbfa4",
        "colab": {
          "base_uri": "https://localhost:8080/",
          "height": 0
        }
      },
      "source": [
        "sensitivity(query)"
      ],
      "execution_count": 16,
      "outputs": [
        {
          "output_type": "execute_result",
          "data": {
            "text/plain": [
              "tensor(0.0005)"
            ]
          },
          "metadata": {
            "tags": []
          },
          "execution_count": 16
        }
      ]
    },
    {
      "cell_type": "markdown",
      "metadata": {
        "id": "Ck71cs-O6mZm",
        "colab_type": "text"
      },
      "source": [
        "Wow! That sensitivity is WAY lower. Note the intuition here. \"Sensitivity\" is measuring how sensitive the output of the query is to a person being removed from the database. For a simple sum, this is always 1, but for the mean, removing a person is going to change the result of the query by rougly 1 divided by the size of the database (which is much smaller). Thus, \"mean\" is a VASTLY less \"sensitive\" function (query) than SUM."
      ]
    },
    {
      "cell_type": "markdown",
      "metadata": {
        "id": "2SGsG5Km6mZo",
        "colab_type": "text"
      },
      "source": [
        "# Project: Calculate L1 Sensitivity For Threshold\n",
        "\n",
        "In this first project, I want you to calculate the sensitivty for the \"threshold\" function. \n",
        "\n",
        "- First compute the sum over the database (i.e. sum(db)) and return whether that sum is greater than a certain threshold.\n",
        "- Then, I want you to create databases of size 10 and threshold of 5 and calculate the sensitivity of the function. \n",
        "- Finally, re-initialize the database 10 times and calculate the sensitivity each time."
      ]
    },
    {
      "cell_type": "code",
      "metadata": {
        "id": "ExRIRP0S6mZp",
        "colab_type": "code",
        "colab": {}
      },
      "source": [
        "# try this project here!\n",
        "def query(db , threshold = 5):\n",
        "  return (db.sum() > threshold).float()"
      ],
      "execution_count": 0,
      "outputs": []
    },
    {
      "cell_type": "code",
      "metadata": {
        "id": "014M1jrw6mZy",
        "colab_type": "code",
        "outputId": "226c85ca-577b-468b-e580-485947f499c9",
        "colab": {
          "base_uri": "https://localhost:8080/",
          "height": 0
        }
      },
      "source": [
        "for i in range(10):\n",
        "  sens_f = sensitivity(query , num_entries = 10)\n",
        "  print(sens_f)"
      ],
      "execution_count": 18,
      "outputs": [
        {
          "output_type": "stream",
          "text": [
            "tensor(1.)\n",
            "tensor(1.)\n",
            "0\n",
            "0\n",
            "0\n",
            "0\n",
            "0\n",
            "0\n",
            "tensor(1.)\n",
            "0\n"
          ],
          "name": "stdout"
        }
      ]
    },
    {
      "cell_type": "markdown",
      "metadata": {
        "id": "QRv58PzP6maD",
        "colab_type": "text"
      },
      "source": [
        "# Lesson: A Basic Differencing Attack\n",
        "\n",
        "Sadly none of the functions we've looked at so far are differentially private (despite them having varying levels of sensitivity). The most basic type of attack can be done as follows.\n",
        "\n",
        "Let's say we wanted to figure out a specific person's value in the database. All we would have to do is query for the sum of the entire database and then the sum of the entire database without that person!\n",
        "\n",
        "# Project: Perform a Differencing Attack on Row 10\n",
        "\n",
        "In this project, I want you to construct a database and then demonstrate how you can use two different sum queries to explose the value of the person represented by row 10 in the database (note, you'll need to use a database with at least 10 rows)"
      ]
    },
    {
      "cell_type": "code",
      "metadata": {
        "id": "jJfYYbmG6maF",
        "colab_type": "code",
        "colab": {}
      },
      "source": [
        "# try this project here!"
      ],
      "execution_count": 0,
      "outputs": []
    },
    {
      "cell_type": "code",
      "metadata": {
        "id": "KGCAT1IF6maQ",
        "colab_type": "code",
        "colab": {}
      },
      "source": [
        "db , _ = create_db_and_parallels(100)"
      ],
      "execution_count": 0,
      "outputs": []
    },
    {
      "cell_type": "code",
      "metadata": {
        "id": "Zev2Qg2K6maV",
        "colab_type": "code",
        "outputId": "b47da42f-d583-48fc-8ed5-045b033f3db2",
        "colab": {
          "base_uri": "https://localhost:8080/",
          "height": 0
        }
      },
      "source": [
        "db.sum()"
      ],
      "execution_count": 21,
      "outputs": [
        {
          "output_type": "execute_result",
          "data": {
            "text/plain": [
              "tensor(46)"
            ]
          },
          "metadata": {
            "tags": []
          },
          "execution_count": 21
        }
      ]
    },
    {
      "cell_type": "code",
      "metadata": {
        "id": "qwtUia3x6maY",
        "colab_type": "code",
        "outputId": "388d7ec2-1b2e-4a12-ac47-5442a1014174",
        "colab": {
          "base_uri": "https://localhost:8080/",
          "height": 0
        }
      },
      "source": [
        "db"
      ],
      "execution_count": 22,
      "outputs": [
        {
          "output_type": "execute_result",
          "data": {
            "text/plain": [
              "tensor([0, 1, 0, 1, 0, 1, 0, 1, 0, 0, 0, 0, 1, 0, 0, 1, 0, 0, 0, 1, 1, 1, 1, 1,\n",
              "        0, 0, 1, 0, 1, 0, 1, 0, 1, 0, 1, 1, 1, 0, 0, 0, 0, 0, 1, 0, 1, 0, 0, 0,\n",
              "        1, 0, 1, 0, 1, 1, 0, 0, 1, 1, 1, 1, 1, 1, 1, 1, 0, 0, 0, 0, 1, 1, 0, 0,\n",
              "        1, 1, 0, 1, 0, 0, 0, 0, 0, 0, 0, 1, 0, 1, 0, 0, 1, 1, 0, 1, 0, 1, 0, 0,\n",
              "        0, 1, 1, 1], dtype=torch.uint8)"
            ]
          },
          "metadata": {
            "tags": []
          },
          "execution_count": 22
        }
      ]
    },
    {
      "cell_type": "code",
      "metadata": {
        "id": "yJhW6KGK6maf",
        "colab_type": "code",
        "colab": {}
      },
      "source": [
        "pdb = get_parallel_db(db , remove_idx = 10)"
      ],
      "execution_count": 0,
      "outputs": []
    },
    {
      "cell_type": "code",
      "metadata": {
        "id": "CsYRANMl6mak",
        "colab_type": "code",
        "outputId": "6ae2900c-e0f7-4dcc-e70d-b98235a51c8a",
        "colab": {
          "base_uri": "https://localhost:8080/",
          "height": 0
        }
      },
      "source": [
        "#Performing differencing attack\n",
        "sum(db) - sum(pdb)"
      ],
      "execution_count": 24,
      "outputs": [
        {
          "output_type": "execute_result",
          "data": {
            "text/plain": [
              "tensor(0, dtype=torch.uint8)"
            ]
          },
          "metadata": {
            "tags": []
          },
          "execution_count": 24
        }
      ]
    },
    {
      "cell_type": "code",
      "metadata": {
        "id": "ZOLaJvHy6map",
        "colab_type": "code",
        "outputId": "a3cc0725-2a42-4ce2-ab65-f8e874b2a885",
        "colab": {
          "base_uri": "https://localhost:8080/",
          "height": 0
        }
      },
      "source": [
        "#Performing differencing attack using mean query\n",
        "(sum(db).float() / len(db)) - (sum(pdb).float() / len(pdb))"
      ],
      "execution_count": 25,
      "outputs": [
        {
          "output_type": "execute_result",
          "data": {
            "text/plain": [
              "tensor(-0.0046)"
            ]
          },
          "metadata": {
            "tags": []
          },
          "execution_count": 25
        }
      ]
    },
    {
      "cell_type": "code",
      "metadata": {
        "id": "H9zmRVvI6mas",
        "colab_type": "code",
        "outputId": "a246aef1-3506-46b5-bc7f-9a60991c4590",
        "colab": {
          "base_uri": "https://localhost:8080/",
          "height": 0
        }
      },
      "source": [
        "#performing differencing attack using threshold query\n",
        "(sum(db).float() > 49) - (sum(pdb).float() > 49)"
      ],
      "execution_count": 26,
      "outputs": [
        {
          "output_type": "execute_result",
          "data": {
            "text/plain": [
              "tensor(0, dtype=torch.uint8)"
            ]
          },
          "metadata": {
            "tags": []
          },
          "execution_count": 26
        }
      ]
    },
    {
      "cell_type": "markdown",
      "metadata": {
        "id": "25QacdSU6mav",
        "colab_type": "text"
      },
      "source": [
        "# Project: Local Differential Privacy\n",
        "\n",
        "As you can see, the basic sum query is not differentially private at all! In truth, differential privacy always requires a form of randomness added to the query. Let me show you what I mean.\n",
        "\n",
        "### Randomized Response (Local Differential Privacy)\n",
        "\n",
        "Let's say I have a group of people I wish to survey about a very taboo behavior which I think they will lie about (say, I want to know if they have ever committed a certain kind of crime). I'm not a policeman, I'm just trying to collect statistics to understand the higher level trend in society. So, how do we do this? One technique is to add randomness to each person's response by giving each person the following instructions (assuming I'm asking a simple yes/no question):\n",
        "\n",
        "- Flip a coin 2 times.\n",
        "- If the first coin flip is heads, answer honestly\n",
        "- If the first coin flip is tails, answer according to the second coin flip (heads for yes, tails for no)!\n",
        "\n",
        "Thus, each person is now protected with \"plausible deniability\". If they answer \"Yes\" to the question \"have you committed X crime?\", then it might becasue they actually did, or it might be becasue they are answering according to a random coin flip. Each person has a high degree of protection. Furthermore, we can recover the underlying statistics with some accuracy, as the \"true statistics\" are simply averaged with a 50% probability. Thus, if we collect a bunch of samples and it turns out that 60% of people answer yes, then we know that the TRUE distribution is actually centered around 70%, because 70% averaged wtih 50% (a coin flip) is 60% which is the result we obtained. \n",
        "\n",
        "However, it should be noted that, especially when we only have a few samples, this comes at the cost of accuracy. This tradeoff exists across all of Differential Privacy. The greater the privacy protection (plausible deniability) the less accurate the results. \n",
        "\n",
        "Let's implement this local DP for our database before!"
      ]
    },
    {
      "cell_type": "code",
      "metadata": {
        "id": "LbO7n-EG6ma1",
        "colab_type": "code",
        "colab": {}
      },
      "source": [
        "def query(db):\n",
        "  true_result = torch.mean(db.float())\n",
        "\n",
        "  first_coin_flip = (torch.rand(len(db)) > 0.5).float()\n",
        "  second_coin_flip = (torch.rand(len(db)) > 0.5).float()\n",
        "\n",
        "  augmented_db = db.float() * first_coin_flip + (1 - first_coin_flip) * second_coin_flip \n",
        "  db_result = torch.mean(augmented_db.float())\n",
        "  return true_result , db_result"
      ],
      "execution_count": 0,
      "outputs": []
    },
    {
      "cell_type": "code",
      "metadata": {
        "id": "VdM-Ji2G6mbC",
        "colab_type": "code",
        "outputId": "1edf8c83-56f5-444c-d64d-70d29c38eb11",
        "colab": {
          "base_uri": "https://localhost:8080/",
          "height": 0
        }
      },
      "source": [
        "db, pdbs = create_db_and_parallels(10)\n",
        "true_result, db_result = query(db)\n",
        "print(\"With Noise:\" + str(db_result))\n",
        "print(\"Without Noise:\" + str(true_result))"
      ],
      "execution_count": 28,
      "outputs": [
        {
          "output_type": "stream",
          "text": [
            "With Noise:tensor(0.4000)\n",
            "Without Noise:tensor(0.3000)\n"
          ],
          "name": "stdout"
        }
      ]
    },
    {
      "cell_type": "code",
      "metadata": {
        "id": "OM2vWZ8b6mbG",
        "colab_type": "code",
        "outputId": "638fa10f-45db-4a93-991f-8d950b893a6d",
        "colab": {
          "base_uri": "https://localhost:8080/",
          "height": 0
        }
      },
      "source": [
        "db, pdbs = create_db_and_parallels(1000)\n",
        "true_result, db_result = query(db)\n",
        "print(\"With Noise:\" + str(db_result))\n",
        "print(\"Without Noise:\" + str(true_result))"
      ],
      "execution_count": 29,
      "outputs": [
        {
          "output_type": "stream",
          "text": [
            "With Noise:tensor(0.5220)\n",
            "Without Noise:tensor(0.5110)\n"
          ],
          "name": "stdout"
        }
      ]
    },
    {
      "cell_type": "code",
      "metadata": {
        "id": "1XMe8srX6mbM",
        "colab_type": "code",
        "outputId": "8568884a-a9d5-4c91-e67e-8dd2d603fbec",
        "colab": {
          "base_uri": "https://localhost:8080/",
          "height": 0
        }
      },
      "source": [
        "db, pdbs = create_db_and_parallels(10000)\n",
        "true_result, db_result = query(db)\n",
        "print(\"With Noise:\" + str(db_result))\n",
        "print(\"Without Noise:\" + str(true_result))"
      ],
      "execution_count": 30,
      "outputs": [
        {
          "output_type": "stream",
          "text": [
            "With Noise:tensor(0.5021)\n",
            "Without Noise:tensor(0.5000)\n"
          ],
          "name": "stdout"
        }
      ]
    },
    {
      "cell_type": "markdown",
      "metadata": {
        "id": "76bNEgGY6mbV",
        "colab_type": "text"
      },
      "source": [
        "# Project: Varying Amounts of Noise\n",
        "\n",
        "In this project, I want you to augment the randomized response query (the one we just wrote) to allow for varying amounts of randomness to be added. Specifically, I want you to bias the coin flip to be higher or lower and then run the same experiment. \n",
        "\n",
        "Note - this one is a bit tricker than you might expect. You need to both adjust the likelihood of the first coin flip AND the de-skewing at the end (where we create the \"augmented_result\" variable)."
      ]
    },
    {
      "cell_type": "code",
      "metadata": {
        "id": "zC-lJ0426mbX",
        "colab_type": "code",
        "colab": {}
      },
      "source": [
        "# try this project here!"
      ],
      "execution_count": 0,
      "outputs": []
    },
    {
      "cell_type": "code",
      "metadata": {
        "id": "QexMwxmW6mbc",
        "colab_type": "code",
        "colab": {}
      },
      "source": [
        "def query(db, noise = 0.2):\n",
        "  true_result = torch.mean(db.float())\n",
        "\n",
        "  first_coin_flip = (torch.rand(len(db)) > noise).float()\n",
        "  second_coin_flip = (torch.rand(len(db)) > 0.5).float()\n",
        "\n",
        "  augmented_db = db.float() * first_coin_flip + (1 - first_coin_flip) * second_coin_flip \n",
        "\n",
        "  sk_result = augmented_db.float().mean()\n",
        "  \n",
        "  \n",
        "  db_result = ((sk_result/noise) - 0.5) * (noise / (1-noise))\n",
        "  \n",
        "  return  db_result , true_result"
      ],
      "execution_count": 0,
      "outputs": []
    },
    {
      "cell_type": "code",
      "metadata": {
        "id": "PhAo4zl96mbf",
        "colab_type": "code",
        "outputId": "5002c983-5e44-4b31-c4d9-902297ba1407",
        "colab": {
          "base_uri": "https://localhost:8080/",
          "height": 0
        }
      },
      "source": [
        "db, pdbs = create_db_and_parallels(100)\n",
        "private_result, true_result = query(db, noise = 0.1)\n",
        "print(\"With Noise:\" + str(private_result))\n",
        "print(\"Without Noise:\" + str(true_result))"
      ],
      "execution_count": 33,
      "outputs": [
        {
          "output_type": "stream",
          "text": [
            "With Noise:tensor(0.4556)\n",
            "Without Noise:tensor(0.4800)\n"
          ],
          "name": "stdout"
        }
      ]
    },
    {
      "cell_type": "code",
      "metadata": {
        "id": "SPew_BUs6mbi",
        "colab_type": "code",
        "outputId": "f17255c7-cebe-45a1-c4de-09bb4c511750",
        "colab": {
          "base_uri": "https://localhost:8080/",
          "height": 0
        }
      },
      "source": [
        "db, pdbs = create_db_and_parallels(100)\n",
        "private_result, true_result = query(db , noise = 0.2)\n",
        "print(\"With Noise:\" + str(private_result))\n",
        "print(\"Without Noise:\" + str(true_result))"
      ],
      "execution_count": 34,
      "outputs": [
        {
          "output_type": "stream",
          "text": [
            "With Noise:tensor(0.3250)\n",
            "Without Noise:tensor(0.4000)\n"
          ],
          "name": "stdout"
        }
      ]
    },
    {
      "cell_type": "code",
      "metadata": {
        "id": "UtW3hNXr6mbo",
        "colab_type": "code",
        "outputId": "542c06b3-8205-4545-ca89-0ff7177b2a36",
        "colab": {
          "base_uri": "https://localhost:8080/",
          "height": 0
        }
      },
      "source": [
        "db, pdbs = create_db_and_parallels(100)\n",
        "private_result, true_result = query(db , noise = 0.4)\n",
        "print(\"With Noise:\" + str(private_result))\n",
        "print(\"Without Noise:\" + str(true_result))"
      ],
      "execution_count": 35,
      "outputs": [
        {
          "output_type": "stream",
          "text": [
            "With Noise:tensor(0.5167)\n",
            "Without Noise:tensor(0.5300)\n"
          ],
          "name": "stdout"
        }
      ]
    },
    {
      "cell_type": "code",
      "metadata": {
        "id": "W103-rQI6mbs",
        "colab_type": "code",
        "outputId": "885b34d5-4920-42ae-911c-81c5b26df94b",
        "colab": {
          "base_uri": "https://localhost:8080/",
          "height": 0
        }
      },
      "source": [
        "db, pdbs = create_db_and_parallels(100)\n",
        "private_result, true_result = query(db, noise = 0.8)\n",
        "print(\"With Noise:\" + str(private_result))\n",
        "print(\"Without Noise:\" + str(true_result))"
      ],
      "execution_count": 36,
      "outputs": [
        {
          "output_type": "stream",
          "text": [
            "With Noise:tensor(0.3000)\n",
            "Without Noise:tensor(0.5400)\n"
          ],
          "name": "stdout"
        }
      ]
    },
    {
      "cell_type": "code",
      "metadata": {
        "id": "D1NaL9DU6mbw",
        "colab_type": "code",
        "colab": {}
      },
      "source": [
        ""
      ],
      "execution_count": 0,
      "outputs": []
    },
    {
      "cell_type": "code",
      "metadata": {
        "id": "juUJLe5F6mb0",
        "colab_type": "code",
        "colab": {}
      },
      "source": [
        ""
      ],
      "execution_count": 0,
      "outputs": []
    },
    {
      "cell_type": "code",
      "metadata": {
        "id": "eesWt91N6mb3",
        "colab_type": "code",
        "colab": {}
      },
      "source": [
        ""
      ],
      "execution_count": 0,
      "outputs": []
    },
    {
      "cell_type": "code",
      "metadata": {
        "id": "CbE55hXi6mb5",
        "colab_type": "code",
        "colab": {}
      },
      "source": [
        ""
      ],
      "execution_count": 0,
      "outputs": []
    },
    {
      "cell_type": "markdown",
      "metadata": {
        "id": "HxFRE2wo6mb8",
        "colab_type": "text"
      },
      "source": [
        "# Lesson: The Formal Definition of Differential Privacy\n",
        "\n",
        "The previous method of adding noise was called \"Local Differentail Privacy\" because we added noise to each datapoint individually. This is necessary for some situations wherein the data is SO sensitive that individuals do not trust noise to be added later. However, it comes at a very high cost in terms of accuracy. \n",
        "\n",
        "However, alternatively we can add noise AFTER data has been aggregated by a function. This kind of noise can allow for similar levels of protection with a lower affect on accuracy. However, participants must be able to trust that no-one looked at their datapoints _before_ the aggregation took place. In some situations this works out well, in others (such as an individual hand-surveying a group of people), this is less realistic.\n",
        "\n",
        "Nevertheless, global differential privacy is incredibly important because it allows us to perform differential privacy on smaller groups of individuals with lower amounts of noise. Let's revisit our sum functions."
      ]
    },
    {
      "cell_type": "code",
      "metadata": {
        "id": "pxsPh1go6mb-",
        "colab_type": "code",
        "colab": {
          "base_uri": "https://localhost:8080/",
          "height": 35
        },
        "outputId": "de78af75-0496-4be7-c536-73eb89d78337"
      },
      "source": [
        "db, pdbs = create_db_and_parallels(100)\n",
        "\n",
        "def query(db):\n",
        "    return torch.sum(db.float())\n",
        "\n",
        "def M(db):\n",
        "    query(db) + noise\n",
        "\n",
        "query(db)"
      ],
      "execution_count": 37,
      "outputs": [
        {
          "output_type": "execute_result",
          "data": {
            "text/plain": [
              "tensor(50.)"
            ]
          },
          "metadata": {
            "tags": []
          },
          "execution_count": 37
        }
      ]
    },
    {
      "cell_type": "markdown",
      "metadata": {
        "id": "p2nH2at76mcE",
        "colab_type": "text"
      },
      "source": [
        "So the idea here is that we want to add noise to the output of our function. We actually have two different kinds of noise we can add - Laplacian Noise or Gaussian Noise. However, before we do so at this point we need to dive into the formal definition of Differential Privacy.\n",
        "\n",
        "![alt text](dp_formula.png \"Title\")"
      ]
    },
    {
      "cell_type": "markdown",
      "metadata": {
        "id": "qHpSX5wR6mcF",
        "colab_type": "text"
      },
      "source": [
        "_Image From: \"The Algorithmic Foundations of Differential Privacy\" - Cynthia Dwork and Aaron Roth - https://www.cis.upenn.edu/~aaroth/Papers/privacybook.pdf_"
      ]
    },
    {
      "cell_type": "markdown",
      "metadata": {
        "id": "lTKgd0iY6mcF",
        "colab_type": "text"
      },
      "source": [
        "This definition does not _create_ differential privacy, instead it is a measure of how much privacy is afforded by a query M. Specifically, it's a comparison between running the query M on a database (x) and a parallel database (y). As you remember, parallel databases are defined to be the same as a full database (x) with one entry/person removed.\n",
        "\n",
        "Thus, this definition says that FOR ALL parallel databases, the maximum distance between a query on database (x) and the same query on database (y) will be e^epsilon, but that occasionally this constraint won't hold with probability delta. Thus, this theorem is called \"epsilon delta\" differential privacy.\n",
        "\n",
        "# Epsilon\n",
        "\n",
        "Let's unpack the intuition of this for a moment. \n",
        "\n",
        "Epsilon Zero: If a query satisfied this inequality where epsilon was set to 0, then that would mean that the query for all parallel databases outputed the exact same value as the full database. As you may remember, when we calculated the \"threshold\" function, often the Sensitivity was 0. In that case, the epsilon also happened to be zero.\n",
        "\n",
        "Epsilon One: If a query satisfied this inequality with epsilon 1, then the maximum distance between all queries would be 1 - or more precisely - the maximum distance between the two random distributions M(x) and M(y) is 1 (because all these queries have some amount of randomness in them, just like we observed in the last section).\n",
        "\n",
        "# Delta\n",
        "\n",
        "Delta is basically the probability that epsilon breaks. Namely, sometimes the epsilon is different for some queries than it is for others. For example, you may remember when we were calculating the sensitivity of threshold, most of the time sensitivity was 0 but sometimes it was 1. Thus, we could calculate this as \"epsilon zero but non-zero delta\" which would say that epsilon is perfect except for some probability of the time when it's arbitrarily higher. Note that this expression doesn't represent the full tradeoff between epsilon and delta."
      ]
    },
    {
      "cell_type": "markdown",
      "metadata": {
        "id": "QlJdoWU76mcG",
        "colab_type": "text"
      },
      "source": [
        "# Lesson: How To Add Noise for Global Differential Privacy\n",
        "\n",
        "In this lesson, we're going to learn about how to take a query and add varying amounts of noise so that it satisfies a certain degree of differential privacy. In particular, we're going to leave behind the Local Differential privacy previously discussed and instead opt to focus on Global differential privacy. \n",
        "\n",
        "So, to sum up, this lesson is about adding noise to the output of our query so that it satisfies a certain epsilon-delta differential privacy threshold.\n",
        "\n",
        "There are two kinds of noise we can add - Gaussian Noise or Laplacian Noise. Generally speaking Laplacian is better, but both are still valid. Now to the hard question...\n",
        "\n",
        "### How much noise should we add?\n",
        "\n",
        "The amount of noise necessary to add to the output of a query is a function of four things:\n",
        "\n",
        "- the type of noise (Gaussian/Laplacian)\n",
        "- the sensitivity of the query/function\n",
        "- the desired epsilon (ε)\n",
        "- the desired delta (δ)\n",
        "\n",
        "Thus, for each type of noise we're adding, we have different way of calculating how much to add as a function of sensitivity, epsilon, and delta. We're going to focus on Laplacian noise. Laplacian noise is increased/decreased according to a \"scale\" parameter b. We choose \"b\" based on the following formula.\n",
        "\n",
        "b = sensitivity(query) / epsilon\n",
        "\n",
        "In other words, if we set b to be this value, then we know that we will have a privacy leakage of <= epsilon. Furthermore, the nice thing about Laplace is that it guarantees this with delta == 0. There are some tunings where we can have very low epsilon where delta is non-zero, but we'll ignore them for now.\n",
        "\n",
        "### Querying Repeatedly\n",
        "\n",
        "- if we query the database multiple times - we can simply add the epsilons (Even if we change the amount of noise and their epsilons are not the same)."
      ]
    },
    {
      "cell_type": "code",
      "metadata": {
        "id": "hWNx1dD-6mcI",
        "colab_type": "code",
        "colab": {}
      },
      "source": [
        ""
      ],
      "execution_count": 0,
      "outputs": []
    },
    {
      "cell_type": "markdown",
      "metadata": {
        "id": "Zc3MMwp56mcK",
        "colab_type": "text"
      },
      "source": [
        "# Project: Create a Differentially Private Query\n",
        "\n",
        "In this project, I want you to take what you learned in the previous lesson and create a query function which sums over the database and adds just the right amount of noise such that it satisfies an epsilon constraint. Write a query for both \"sum\" and for \"mean\". Ensure that you use the correct sensitivity measures for both."
      ]
    },
    {
      "cell_type": "code",
      "metadata": {
        "id": "83Qgzgy66mcM",
        "colab_type": "code",
        "colab": {}
      },
      "source": [
        "# try this project here!"
      ],
      "execution_count": 0,
      "outputs": []
    },
    {
      "cell_type": "code",
      "metadata": {
        "id": "llPcrTsT6mcO",
        "colab_type": "code",
        "colab": {}
      },
      "source": [
        "epsilon = 0.00001"
      ],
      "execution_count": 0,
      "outputs": []
    },
    {
      "cell_type": "code",
      "metadata": {
        "id": "lJmCk7wZ6mcY",
        "colab_type": "code",
        "colab": {}
      },
      "source": [
        "import numpy"
      ],
      "execution_count": 0,
      "outputs": []
    },
    {
      "cell_type": "code",
      "metadata": {
        "id": "eJ8vbmd06mcd",
        "colab_type": "code",
        "colab": {}
      },
      "source": [
        "db , pdbs = create_db_and_parallels(100)"
      ],
      "execution_count": 0,
      "outputs": []
    },
    {
      "cell_type": "code",
      "metadata": {
        "id": "opAmO-HX6mcg",
        "colab_type": "code",
        "colab": {}
      },
      "source": [
        "def sum_query(db):\n",
        "  return db.sum()"
      ],
      "execution_count": 0,
      "outputs": []
    },
    {
      "cell_type": "code",
      "metadata": {
        "id": "0UevdvAt6mci",
        "colab_type": "code",
        "colab": {}
      },
      "source": [
        "def laplacian_mechanism(db , query , sensitivity):\n",
        "  beta = sensitivity / epsilon\n",
        "  noise = torch.tensor(np.random.laplace(0 , beta , 1))\n",
        "  \n",
        "  return query(db) + noise"
      ],
      "execution_count": 0,
      "outputs": []
    },
    {
      "cell_type": "code",
      "metadata": {
        "id": "bgzQVPZP6mco",
        "colab_type": "code",
        "colab": {}
      },
      "source": [
        "def mean_query(db):\n",
        "  return torch.mean(db.float())"
      ],
      "execution_count": 0,
      "outputs": []
    },
    {
      "cell_type": "code",
      "metadata": {
        "id": "wIJ32v2Y6mcq",
        "colab_type": "code",
        "colab": {
          "base_uri": "https://localhost:8080/",
          "height": 35
        },
        "outputId": "45187f2b-7b3e-4850-a308-234a512a791c"
      },
      "source": [
        "laplacian_mechanism(db , sum_query , 1)"
      ],
      "execution_count": 67,
      "outputs": [
        {
          "output_type": "execute_result",
          "data": {
            "text/plain": [
              "tensor([53.7920], dtype=torch.float64)"
            ]
          },
          "metadata": {
            "tags": []
          },
          "execution_count": 67
        }
      ]
    },
    {
      "cell_type": "code",
      "metadata": {
        "id": "XU5o7dD7b3OG",
        "colab_type": "code",
        "colab": {
          "base_uri": "https://localhost:8080/",
          "height": 35
        },
        "outputId": "973a2dc5-c3f7-4bea-d425-8ca0fef8f928"
      },
      "source": [
        "sum_query(db)"
      ],
      "execution_count": 64,
      "outputs": [
        {
          "output_type": "execute_result",
          "data": {
            "text/plain": [
              "tensor(50)"
            ]
          },
          "metadata": {
            "tags": []
          },
          "execution_count": 64
        }
      ]
    },
    {
      "cell_type": "code",
      "metadata": {
        "id": "YusvKYD56mct",
        "colab_type": "code",
        "colab": {
          "base_uri": "https://localhost:8080/",
          "height": 35
        },
        "outputId": "c6297acb-8968-4333-9384-77b8b7d3106e"
      },
      "source": [
        "laplacian_mechanism(db, mean_query , 1/100)"
      ],
      "execution_count": 70,
      "outputs": [
        {
          "output_type": "execute_result",
          "data": {
            "text/plain": [
              "tensor([0.3258], dtype=torch.float64)"
            ]
          },
          "metadata": {
            "tags": []
          },
          "execution_count": 70
        }
      ]
    },
    {
      "cell_type": "code",
      "metadata": {
        "id": "F31yrsgAb7D4",
        "colab_type": "code",
        "colab": {
          "base_uri": "https://localhost:8080/",
          "height": 35
        },
        "outputId": "9c70c83a-9e54-4c5f-f943-51637abb6b49"
      },
      "source": [
        "mean_query(db)"
      ],
      "execution_count": 71,
      "outputs": [
        {
          "output_type": "execute_result",
          "data": {
            "text/plain": [
              "tensor(0.5000)"
            ]
          },
          "metadata": {
            "tags": []
          },
          "execution_count": 71
        }
      ]
    },
    {
      "cell_type": "markdown",
      "metadata": {
        "id": "xplyybZx6mcv",
        "colab_type": "text"
      },
      "source": [
        "# Lesson: Differential Privacy for Deep Learning\n",
        "\n",
        "So in the last lessons you may have been wondering - what does all of this have to do with Deep Learning? Well, these same techniques we were just studying form the core primitives for how Differential Privacy provides guarantees in the context of Deep Learning. \n",
        "\n",
        "Previously, we defined perfect privacy as \"a query to a database returns the same value even if we remove any person from the database\", and used this intuition in the description of epsilon/delta. In the context of deep learning we have a similar standard.\n",
        "\n",
        "Training a model on a dataset should return the same model even if we remove any person from the dataset.\n",
        "\n",
        "Thus, we've replaced \"querying a database\" with \"training a model on a dataset\". In essence, the training process is a kind of query. However, one should note that this adds two points of complexity which database queries did not have:\n",
        "\n",
        "    1. do we always know where \"people\" are referenced in the dataset?\n",
        "    2. neural models rarely never train to the same output model, even on identical data\n",
        "\n",
        "The answer to (1) is to treat each training example as a single, separate person. Strictly speaking, this is often overly zealous as some training examples have no relevance to people and others may have multiple/partial (consider an image with multiple people contained within it). Thus, localizing exactly where \"people\" are referenced, and thus how much your model would change if people were removed, is challenging.\n",
        "\n",
        "The answer to (2) is also an open problem - but several interesitng proposals have been made. We're going to focus on one of the most popular proposals, PATE.\n",
        "\n",
        "## An Example Scenario: A Health Neural Network\n",
        "\n",
        "First we're going to consider a scenario - you work for a hospital and you have a large collection of images about your patients. However, you don't know what's in them. You would like to use these images to develop a neural network which can automatically classify them, however since your images aren't labeled, they aren't sufficient to train a classifier. \n",
        "\n",
        "However, being a cunning strategist, you realize that you can reach out to 10 partner hospitals which DO have annotated data. It is your hope to train your new classifier on their datasets so that you can automatically label your own. While these hospitals are interested in helping, they have privacy concerns regarding information about their patients. Thus, you will use the following technique to train a classifier which protects the privacy of patients in the other hospitals.\n",
        "\n",
        "- 1) You'll ask each of the 10 hospitals to train a model on their own datasets (All of which have the same kinds of labels)\n",
        "- 2) You'll then use each of the 10 partner models to predict on your local dataset, generating 10 labels for each of your datapoints\n",
        "- 3) Then, for each local data point (now with 10 labels), you will perform a DP query to generate the final true label. This query is a \"max\" function, where \"max\" is the most frequent label across the 10 labels. We will need to add laplacian noise to make this Differentially Private to a certain epsilon/delta constraint.\n",
        "- 4) Finally, we will retrain a new model on our local dataset which now has labels. This will be our final \"DP\" model.\n",
        "\n",
        "So, let's walk through these steps. I will assume you're already familiar with how to train/predict a deep neural network, so we'll skip steps 1 and 2 and work with example data. We'll focus instead on step 3, namely how to perform the DP query for each example using toy data.\n",
        "\n",
        "So, let's say we have 10,000 training examples, and we've got 10 labels for each example (from our 10 \"teacher models\" which were trained directly on private data). Each label is chosen from a set of 10 possible labels (categories) for each image."
      ]
    },
    {
      "cell_type": "code",
      "metadata": {
        "id": "ekIjAg8G6mcw",
        "colab_type": "code",
        "colab": {}
      },
      "source": [
        "import numpy as np"
      ],
      "execution_count": 0,
      "outputs": []
    },
    {
      "cell_type": "code",
      "metadata": {
        "id": "CBMzKkmW6mcz",
        "colab_type": "code",
        "colab": {}
      },
      "source": [
        "num_teachers = 10 # we're working with 10 partner hospitals\n",
        "num_examples = 10000 # the size of OUR dataset\n",
        "num_labels = 10 # number of lablels for our classifier"
      ],
      "execution_count": 0,
      "outputs": []
    },
    {
      "cell_type": "code",
      "metadata": {
        "id": "t27XYhJz6mc5",
        "colab_type": "code",
        "colab": {}
      },
      "source": [
        "preds = (np.random.rand(num_teachers, num_examples) * num_labels).astype(int).transpose(1,0) # fake predictions"
      ],
      "execution_count": 0,
      "outputs": []
    },
    {
      "cell_type": "code",
      "metadata": {
        "id": "sEoTwYy_6mc9",
        "colab_type": "code",
        "colab": {}
      },
      "source": [
        "new_labels = list()\n",
        "for an_image in preds:\n",
        "\n",
        "    label_counts = np.bincount(an_image, minlength=num_labels)\n",
        "\n",
        "    epsilon = 0.1\n",
        "    beta = 1 / epsilon\n",
        "\n",
        "    for i in range(len(label_counts)):\n",
        "        label_counts[i] += np.random.laplace(0, beta, 1)\n",
        "\n",
        "    new_label = np.argmax(label_counts)\n",
        "    \n",
        "    new_labels.append(new_label)"
      ],
      "execution_count": 0,
      "outputs": []
    },
    {
      "cell_type": "code",
      "metadata": {
        "id": "hgkv8-8R6mdF",
        "colab_type": "code",
        "colab": {}
      },
      "source": [
        "# new_labels"
      ],
      "execution_count": 0,
      "outputs": []
    },
    {
      "cell_type": "markdown",
      "metadata": {
        "id": "LaM3DjA16mdI",
        "colab_type": "text"
      },
      "source": [
        "# PATE Analysis"
      ]
    },
    {
      "cell_type": "code",
      "metadata": {
        "id": "QLUMMNUW6mdJ",
        "colab_type": "code",
        "colab": {
          "base_uri": "https://localhost:8080/",
          "height": 35
        },
        "outputId": "690a2c5e-a4c5-4e28-c98b-403a70d74aa9"
      },
      "source": [
        "labels = np.array([9, 9, 3, 6, 9, 9, 9, 9, 8, 2])\n",
        "counts = np.bincount(labels, minlength=10)\n",
        "query_result = np.argmax(counts)\n",
        "query_result"
      ],
      "execution_count": 46,
      "outputs": [
        {
          "output_type": "execute_result",
          "data": {
            "text/plain": [
              "9"
            ]
          },
          "metadata": {
            "tags": []
          },
          "execution_count": 46
        }
      ]
    },
    {
      "cell_type": "code",
      "metadata": {
        "id": "XUe3rvzz6mdP",
        "colab_type": "code",
        "colab": {
          "base_uri": "https://localhost:8080/",
          "height": 110
        },
        "outputId": "c9effdfe-60a8-4f51-ef00-49cdb75db67e"
      },
      "source": [
        "from syft.frameworks.torch.differential_privacy import pate"
      ],
      "execution_count": 47,
      "outputs": [
        {
          "output_type": "stream",
          "text": [
            "WARNING: Logging before flag parsing goes to stderr.\n",
            "W0720 17:22:39.466922 140655070807936 secure_random.py:26] Falling back to insecure randomness since the required custom op could not be found for the installed version of TensorFlow. Fix this by compiling custom ops. Missing file was '/usr/local/lib/python3.6/dist-packages/tf_encrypted/operations/secure_random/secure_random_module_tf_1.14.0.so'\n",
            "W0720 17:22:39.485678 140655070807936 deprecation_wrapper.py:119] From /usr/local/lib/python3.6/dist-packages/tf_encrypted/session.py:26: The name tf.Session is deprecated. Please use tf.compat.v1.Session instead.\n",
            "\n"
          ],
          "name": "stderr"
        }
      ]
    },
    {
      "cell_type": "code",
      "metadata": {
        "id": "ow5-HtZA6mdS",
        "colab_type": "code",
        "colab": {
          "base_uri": "https://localhost:8080/",
          "height": 35
        },
        "outputId": "568e0327-04ac-404f-ff81-a5cc3e11fea4"
      },
      "source": [
        "num_teachers, num_examples, num_labels = (100, 100, 10)\n",
        "preds = (np.random.rand(num_teachers, num_examples) * num_labels).astype(int) #fake preds\n",
        "indices = (np.random.rand(num_examples) * num_labels).astype(int) # true answers\n",
        "\n",
        "preds[:,0:10] *= 0\n",
        "\n",
        "data_dep_eps, data_ind_eps = pate.perform_analysis(teacher_preds=preds, indices=indices, noise_eps=0.1, delta=1e-5)\n",
        "\n",
        "assert data_dep_eps < data_ind_eps\n",
        "\n"
      ],
      "execution_count": 48,
      "outputs": [
        {
          "output_type": "stream",
          "text": [
            "Warning: May not have used enough values of l. Increase 'moments' variable and run again.\n"
          ],
          "name": "stdout"
        }
      ]
    },
    {
      "cell_type": "code",
      "metadata": {
        "id": "3sqM3a636mdX",
        "colab_type": "code",
        "colab": {
          "base_uri": "https://localhost:8080/",
          "height": 72
        },
        "outputId": "a540a842-a429-4a5c-85ef-8238aa98acab"
      },
      "source": [
        "data_dep_eps, data_ind_eps = pate.perform_analysis(teacher_preds=preds, indices=indices, noise_eps=0.1, delta=1e-5)\n",
        "print(\"Data Independent Epsilon:\", data_ind_eps)\n",
        "print(\"Data Dependent Epsilon:\", data_dep_eps)"
      ],
      "execution_count": 49,
      "outputs": [
        {
          "output_type": "stream",
          "text": [
            "Warning: May not have used enough values of l. Increase 'moments' variable and run again.\n",
            "Data Independent Epsilon: 11.756462732485115\n",
            "Data Dependent Epsilon: 1.52655213289881\n"
          ],
          "name": "stdout"
        }
      ]
    },
    {
      "cell_type": "code",
      "metadata": {
        "id": "0Gir-Ir26mdd",
        "colab_type": "code",
        "colab": {}
      },
      "source": [
        "preds[:,0:50] *= 0"
      ],
      "execution_count": 0,
      "outputs": []
    },
    {
      "cell_type": "code",
      "metadata": {
        "id": "cvTNkJvP6mdg",
        "colab_type": "code",
        "colab": {
          "base_uri": "https://localhost:8080/",
          "height": 54
        },
        "outputId": "9dc2fca7-5082-42b8-cc31-c993ce14c96f"
      },
      "source": [
        "data_dep_eps, data_ind_eps = pate.perform_analysis(teacher_preds=preds, indices=indices, noise_eps=0.1, delta=1e-5, moments=20)\n",
        "print(\"Data Independent Epsilon:\", data_ind_eps)\n",
        "print(\"Data Dependent Epsilon:\", data_dep_eps)"
      ],
      "execution_count": 51,
      "outputs": [
        {
          "output_type": "stream",
          "text": [
            "Data Independent Epsilon: 11.756462732485115\n",
            "Data Dependent Epsilon: 0.9029013677789843\n"
          ],
          "name": "stdout"
        }
      ]
    },
    {
      "cell_type": "code",
      "metadata": {
        "id": "G9riXhs-6mdq",
        "colab_type": "code",
        "colab": {}
      },
      "source": [
        ""
      ],
      "execution_count": 0,
      "outputs": []
    },
    {
      "cell_type": "markdown",
      "metadata": {
        "id": "LtsAFAXj6mds",
        "colab_type": "text"
      },
      "source": [
        "# Where to Go From Here\n",
        "\n",
        "\n",
        "Read:\n",
        "    - Algorithmic Foundations of Differential Privacy: https://www.cis.upenn.edu/~aaroth/Papers/privacybook.pdf\n",
        "    - Deep Learning with Differential Privacy: https://arxiv.org/pdf/1607.00133.pdf\n",
        "    - The Ethical Algorithm: https://www.amazon.com/Ethical-Algorithm-Science-Socially-Design/dp/0190948205\n",
        "   \n",
        "Topics:\n",
        "    - The Exponential Mechanism\n",
        "    - The Moment's Accountant\n",
        "    - Differentially Private Stochastic Gradient Descent\n",
        "\n",
        "Advice:\n",
        "    - For deployments - stick with public frameworks!\n",
        "    - Join the Differential Privacy Community\n",
        "    - Don't get ahead of yourself - DP is still in the early days"
      ]
    },
    {
      "cell_type": "code",
      "metadata": {
        "id": "Wtw0EFDd6mdt",
        "colab_type": "code",
        "colab": {}
      },
      "source": [
        ""
      ],
      "execution_count": 0,
      "outputs": []
    },
    {
      "cell_type": "code",
      "metadata": {
        "id": "63JZDLtN6mdz",
        "colab_type": "code",
        "colab": {}
      },
      "source": [
        ""
      ],
      "execution_count": 0,
      "outputs": []
    },
    {
      "cell_type": "markdown",
      "metadata": {
        "id": "sTtQGW786md3",
        "colab_type": "text"
      },
      "source": [
        "# Section Project:\n",
        "\n",
        "For the final project for this section, you're going to train a DP model using this PATE method on the MNIST dataset, provided below."
      ]
    },
    {
      "cell_type": "code",
      "metadata": {
        "id": "sTQI1nyg6md4",
        "colab_type": "code",
        "colab": {
          "base_uri": "https://localhost:8080/",
          "height": 294
        },
        "outputId": "e21d2bf0-c7ad-4dda-d56c-154ddc64f8bd"
      },
      "source": [
        "import torchvision.datasets as datasets\n",
        "mnist_trainset = datasets.MNIST(root='./data', train=True, download=True, transform=None)"
      ],
      "execution_count": 52,
      "outputs": [
        {
          "output_type": "stream",
          "text": [
            "  0%|          | 16384/9912422 [00:00<01:28, 111295.43it/s]"
          ],
          "name": "stderr"
        },
        {
          "output_type": "stream",
          "text": [
            "Downloading http://yann.lecun.com/exdb/mnist/train-images-idx3-ubyte.gz to ./data/MNIST/raw/train-images-idx3-ubyte.gz\n"
          ],
          "name": "stdout"
        },
        {
          "output_type": "stream",
          "text": [
            "9920512it [00:00, 29038864.09it/s]                           \n"
          ],
          "name": "stderr"
        },
        {
          "output_type": "stream",
          "text": [
            "Extracting ./data/MNIST/raw/train-images-idx3-ubyte.gz\n"
          ],
          "name": "stdout"
        },
        {
          "output_type": "stream",
          "text": [
            "32768it [00:00, 448509.32it/s]\n",
            "  1%|          | 16384/1648877 [00:00<00:11, 144009.53it/s]"
          ],
          "name": "stderr"
        },
        {
          "output_type": "stream",
          "text": [
            "Downloading http://yann.lecun.com/exdb/mnist/train-labels-idx1-ubyte.gz to ./data/MNIST/raw/train-labels-idx1-ubyte.gz\n",
            "Extracting ./data/MNIST/raw/train-labels-idx1-ubyte.gz\n",
            "Downloading http://yann.lecun.com/exdb/mnist/t10k-images-idx3-ubyte.gz to ./data/MNIST/raw/t10k-images-idx3-ubyte.gz\n"
          ],
          "name": "stdout"
        },
        {
          "output_type": "stream",
          "text": [
            "1654784it [00:00, 7171859.20it/s]                            \n",
            "8192it [00:00, 179515.15it/s]\n"
          ],
          "name": "stderr"
        },
        {
          "output_type": "stream",
          "text": [
            "Extracting ./data/MNIST/raw/t10k-images-idx3-ubyte.gz\n",
            "Downloading http://yann.lecun.com/exdb/mnist/t10k-labels-idx1-ubyte.gz to ./data/MNIST/raw/t10k-labels-idx1-ubyte.gz\n",
            "Extracting ./data/MNIST/raw/t10k-labels-idx1-ubyte.gz\n",
            "Processing...\n",
            "Done!\n"
          ],
          "name": "stdout"
        }
      ]
    },
    {
      "cell_type": "code",
      "metadata": {
        "id": "TL-rftJO6md-",
        "colab_type": "code",
        "colab": {
          "base_uri": "https://localhost:8080/",
          "height": 90
        },
        "outputId": "04bf91bc-f504-49ea-892c-8a4d69023fbc"
      },
      "source": [
        "train_data = mnist_trainset.train_data\n",
        "train_targets = mnist_trainset.train_labels"
      ],
      "execution_count": 53,
      "outputs": [
        {
          "output_type": "stream",
          "text": [
            "/usr/local/lib/python3.6/dist-packages/torchvision/datasets/mnist.py:53: UserWarning: train_data has been renamed data\n",
            "  warnings.warn(\"train_data has been renamed data\")\n",
            "/usr/local/lib/python3.6/dist-packages/torchvision/datasets/mnist.py:43: UserWarning: train_labels has been renamed targets\n",
            "  warnings.warn(\"train_labels has been renamed targets\")\n"
          ],
          "name": "stderr"
        }
      ]
    },
    {
      "cell_type": "code",
      "metadata": {
        "id": "1WhARMgx6meC",
        "colab_type": "code",
        "colab": {
          "base_uri": "https://localhost:8080/",
          "height": 90
        },
        "outputId": "26bcedb4-40ab-4214-8ad1-3b86bfd07e34"
      },
      "source": [
        "test_data = mnist_trainset.test_data\n",
        "test_targets = mnist_trainset.test_labels"
      ],
      "execution_count": 54,
      "outputs": [
        {
          "output_type": "stream",
          "text": [
            "/usr/local/lib/python3.6/dist-packages/torchvision/datasets/mnist.py:58: UserWarning: test_data has been renamed data\n",
            "  warnings.warn(\"test_data has been renamed data\")\n",
            "/usr/local/lib/python3.6/dist-packages/torchvision/datasets/mnist.py:48: UserWarning: test_labels has been renamed targets\n",
            "  warnings.warn(\"test_labels has been renamed targets\")\n"
          ],
          "name": "stderr"
        }
      ]
    },
    {
      "cell_type": "code",
      "metadata": {
        "id": "VDtPRUeK6meI",
        "colab_type": "code",
        "colab": {}
      },
      "source": [
        ""
      ],
      "execution_count": 0,
      "outputs": []
    }
  ]
}